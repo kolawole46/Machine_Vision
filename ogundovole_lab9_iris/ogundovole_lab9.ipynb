{
 "cells": [
  {
   "cell_type": "code",
   "execution_count": 1,
   "metadata": {
    "scrolled": false
   },
   "outputs": [
    {
     "ename": "ModuleNotFoundError",
     "evalue": "No module named 'keras'",
     "output_type": "error",
     "traceback": [
      "\u001b[1;31m---------------------------------------------------------------------------\u001b[0m",
      "\u001b[1;31mModuleNotFoundError\u001b[0m                       Traceback (most recent call last)",
      "\u001b[1;32m<ipython-input-1-1e40d9838ebf>\u001b[0m in \u001b[0;36m<module>\u001b[1;34m()\u001b[0m\n\u001b[0;32m      1\u001b[0m \u001b[1;31m# Create first network with Keras\u001b[0m\u001b[1;33m\u001b[0m\u001b[1;33m\u001b[0m\u001b[0m\n\u001b[1;32m----> 2\u001b[1;33m \u001b[1;32mfrom\u001b[0m \u001b[0mkeras\u001b[0m\u001b[1;33m.\u001b[0m\u001b[0mmodels\u001b[0m \u001b[1;32mimport\u001b[0m \u001b[0mSequential\u001b[0m\u001b[1;33m\u001b[0m\u001b[0m\n\u001b[0m\u001b[0;32m      3\u001b[0m \u001b[1;32mfrom\u001b[0m \u001b[0mkeras\u001b[0m\u001b[1;33m.\u001b[0m\u001b[0mlayers\u001b[0m \u001b[1;32mimport\u001b[0m \u001b[0mDense\u001b[0m\u001b[1;33m\u001b[0m\u001b[0m\n\u001b[0;32m      4\u001b[0m \u001b[1;31m# from matplotlib.dates import datestr2num\u001b[0m\u001b[1;33m\u001b[0m\u001b[1;33m\u001b[0m\u001b[0m\n\u001b[0;32m      5\u001b[0m \u001b[1;31m# from matplotlib.dates import date2num\u001b[0m\u001b[1;33m\u001b[0m\u001b[1;33m\u001b[0m\u001b[0m\n",
      "\u001b[1;31mModuleNotFoundError\u001b[0m: No module named 'keras'"
     ]
    }
   ],
   "source": [
    "# Create first network with Keras\n",
    "from keras.models import Sequential\n",
    "from keras.layers import Dense\n",
    "# from matplotlib.dates import datestr2num\n",
    "# from matplotlib.dates import date2num\n",
    "# from matplotlib.dates import str2num\n",
    "import numpy\n",
    "\n",
    "# function created to convert iris results to numbers\n",
    "# wasn't used in the final program\n",
    "def converttonumbers(x):\n",
    "    if x == \"Iris-setosa\":\n",
    "        return 1\n",
    "    elif x == \"Iris-versicolor\":\n",
    "        return 2\n",
    "    elif x == \"Iris-virginica\":\n",
    "        return 3\n",
    "    else:\n",
    "        return 0\n",
    "\n",
    "# fix random seed for reproducibility\n",
    "seed = 7\n",
    "numpy.random.seed(seed)\n",
    "\n",
    "# load iris dataset\n",
    "# this iris dataset was changed in the following way:\n",
    "# 'Iris-setosa' now equals to two numbers '0,1'\n",
    "# 'Iris-versicolor' now equals to two numbers '1,0'\n",
    "# 'Iris-virginica' now equals to two numbers '1,1'\n",
    "\n",
    "dataset = numpy.loadtxt(\"iris_notext.data\", delimiter=\",\")\n",
    "\n",
    "# split into input (X) and output (Y) variables\n",
    "X = dataset[:,0:5]\n",
    "Y = dataset[:,4:6]\n",
    "\n",
    "# create model\n",
    "model = Sequential()\n",
    "model.add(Dense(12, input_dim = 5, kernel_initializer='uniform', activation='relu'))\n",
    "model.add(Dense(8, kernel_initializer='uniform', activation='sigmoid'))\n",
    "model.add(Dense(2, kernel_initializer='uniform', activation='sigmoid'))\n",
    "\n",
    "# Compile model\n",
    "model.compile(loss = 'categorical_crossentropy', optimizer = 'adam', metrics = ['accuracy'])\n",
    "\n",
    "# Fit the model\n",
    "model.fit(X, Y, epochs = 150, batch_size = 10, verbose = 2)\n",
    "\n",
    "# calculate predictions\n",
    "# these predictions will consist of two columns\n",
    "# first column has the first number of flower type\n",
    "predictions = model.predict(X)\n",
    "\n",
    "# round predictions\n",
    "rounded1 = [round(x[0]) for x in predictions]\n",
    "rounded2 = [round(x[1]) for x in predictions]\n",
    "\n",
    "print(\"Predictions for the model:\")\n",
    "print(predictions)\n",
    "\n",
    "print(\"Rounded values for model prediciton:\")\n",
    "print(rounded1)\n",
    "print(rounded2)"
   ]
  },
  {
   "cell_type": "code",
   "execution_count": null,
   "metadata": {
    "collapsed": true
   },
   "outputs": [],
   "source": []
  },
  {
   "cell_type": "code",
   "execution_count": null,
   "metadata": {
    "collapsed": true
   },
   "outputs": [],
   "source": []
  }
 ],
 "metadata": {
  "kernelspec": {
   "display_name": "Python 3",
   "language": "python",
   "name": "python3"
  },
  "language_info": {
   "codemirror_mode": {
    "name": "ipython",
    "version": 3
   },
   "file_extension": ".py",
   "mimetype": "text/x-python",
   "name": "python",
   "nbconvert_exporter": "python",
   "pygments_lexer": "ipython3",
   "version": "3.5.4"
  }
 },
 "nbformat": 4,
 "nbformat_minor": 2
}
