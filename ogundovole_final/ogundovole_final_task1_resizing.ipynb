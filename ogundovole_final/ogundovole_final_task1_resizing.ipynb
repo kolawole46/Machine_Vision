{
 "cells": [
  {
   "cell_type": "code",
   "execution_count": 1,
   "metadata": {
    "collapsed": true
   },
   "outputs": [],
   "source": [
    "# TASK: RESIZE THE IMAGES TO ENSURE STABLE NEURAL NETWORKS FITTING PROCESS LATER\n",
    "\n",
    "from __future__ import print_function\n",
    "import matplotlib.pyplot as plt\n",
    "import PIL\n",
    "from PIL import Image\n",
    "import numpy as np\n",
    "import os\n",
    "import shutil\n",
    "import sys\n",
    "from scipy import ndimage\n",
    "from sklearn.model_selection import train_test_split\n",
    "\n",
    "# resized images\n",
    "# creating resized copies of given images\n",
    "# in corresponding folders\n",
    "# source size 200x200, new size 20x20\n",
    "# this is required to lighen up the process of classification\n",
    "\n",
    "new_size = 20, 20\n",
    "\n",
    "for image in os.listdir('.\\\\data2\\\\Arms\\\\'):\n",
    "    image_file = os.path.join('.\\\\data2\\\\Arms\\\\', image)\n",
    "    img = Image.open(image_file)\n",
    "    img = img.resize(new_size, PIL.Image.ANTIALIAS)\n",
    "    img.save(image_file+'_resized.png')\n",
    "\n",
    "for image in os.listdir('.\\\\data2\\\\Arms\\\\'):\n",
    "    image_file = os.path.join('.\\\\data2\\\\Arms\\\\', image)\n",
    "    if image.endswith(\"_resized.png\"):\n",
    "        shutil.move(image_file, '.\\\\data2\\\\Arms_resized\\\\')\n",
    "        \n",
    "for image in os.listdir('.\\\\data2\\\\Figure_normal_legs\\\\'):\n",
    "    image_file = os.path.join('.\\\\data2\\\\Figure_normal_legs\\\\', image)\n",
    "    img = Image.open(image_file)\n",
    "    img = img.resize(new_size, PIL.Image.ANTIALIAS)\n",
    "    img.save(image_file+'_resized.png')\n",
    "\n",
    "for image in os.listdir('.\\\\data2\\\\Figure_normal_legs\\\\'):\n",
    "    image_file = os.path.join('.\\\\data2\\\\Figure_normal_legs\\\\', image)\n",
    "    if image.endswith(\"_resized.png\"):\n",
    "        shutil.move(image_file, '.\\\\data2\\\\Figure_normal_legs_resized\\\\')\n",
    "\n",
    "for image in os.listdir('.\\\\data2\\\\FigureWheels\\\\'):\n",
    "    image_file = os.path.join('.\\\\data2\\\\FigureWheels\\\\', image)\n",
    "    img = Image.open(image_file)\n",
    "    img = img.resize(new_size, PIL.Image.ANTIALIAS)\n",
    "    img.save(image_file+'_resized.png')\n",
    "\n",
    "for image in os.listdir('.\\\\data2\\\\FigureWheels\\\\'):\n",
    "    image_file = os.path.join('.\\\\data2\\\\FigureWheels\\\\', image)\n",
    "    if image.endswith(\"_resized.png\"):\n",
    "        shutil.move(image_file, '.\\\\data2\\\\FigureWheels_resized\\\\')\n",
    "        \n",
    "for image in os.listdir('.\\\\data2\\\\Head\\\\'):\n",
    "    image_file = os.path.join('.\\\\data2\\\\Head\\\\', image)\n",
    "    img = Image.open(image_file)\n",
    "    img = img.resize(new_size, PIL.Image.ANTIALIAS)\n",
    "    img.save(image_file+'_resized.png')\n",
    "\n",
    "for image in os.listdir('.\\\\data2\\\\Head\\\\'):\n",
    "    image_file = os.path.join('.\\\\data2\\\\Head\\\\', image)\n",
    "    if image.endswith(\"_resized.png\"):\n",
    "        shutil.move(image_file, '.\\\\data2\\\\Head_resized\\\\')"
   ]
  },
  {
   "cell_type": "code",
   "execution_count": null,
   "metadata": {
    "collapsed": true
   },
   "outputs": [],
   "source": []
  }
 ],
 "metadata": {
  "kernelspec": {
   "display_name": "Python 3",
   "language": "python",
   "name": "python3"
  },
  "language_info": {
   "codemirror_mode": {
    "name": "ipython",
    "version": 3
   },
   "file_extension": ".py",
   "mimetype": "text/x-python",
   "name": "python",
   "nbconvert_exporter": "python",
   "pygments_lexer": "ipython3",
   "version": "3.5.4"
  }
 },
 "nbformat": 4,
 "nbformat_minor": 2
}
